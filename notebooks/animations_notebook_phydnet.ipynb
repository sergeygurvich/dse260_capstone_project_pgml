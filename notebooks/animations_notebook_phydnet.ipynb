{
 "cells": [
  {
   "cell_type": "markdown",
   "id": "1739e6ad-d0fc-4a56-896d-35d04fff2247",
   "metadata": {},
   "source": [
    "## PhyDNet: 7 epochs training - unshuffled"
   ]
  },
  {
   "cell_type": "markdown",
   "id": "d1a3bbe7-eb00-45e0-ae2c-daf3d2549a7e",
   "metadata": {
    "tags": []
   },
   "source": [
    "<img src=\"animations_notebook_phydnet/movie_phydnet_3.gif\" width=\"650\" align=\"left\">\n",
    "<img src=\"animations_notebook_phydnet/phydnet_mae_phydnet_7_epochs.png\" width=\"350\" align=\"right\">"
   ]
  },
  {
   "cell_type": "markdown",
   "id": "48b03e4b-67a7-4cbe-9df9-dcb47602a0f0",
   "metadata": {
    "tags": []
   },
   "source": [
    "## PhyDNet: 20 epochs training - unshuffled"
   ]
  },
  {
   "cell_type": "markdown",
   "id": "565d3835-0f71-4074-93b3-06b62486fe01",
   "metadata": {
    "tags": []
   },
   "source": [
    "<img src=\"animations_notebook_phydnet/movie_phydnet_20_epochs.gif\" width=\"650\" align=\"left\">\n",
    "<img src=\"animations_notebook_phydnet/phydnet_mae_phydnet_20_epochs.png\" width=\"350\" align=\"right\">"
   ]
  },
  {
   "cell_type": "markdown",
   "id": "230c2040-596f-4e1d-b506-1bb457b8d4a8",
   "metadata": {
    "tags": []
   },
   "source": [
    "## PhyDNet: 20 epochs training - shuffled"
   ]
  },
  {
   "cell_type": "markdown",
   "id": "a638feb2-c9e7-491d-a088-8be58a28a00d",
   "metadata": {
    "tags": []
   },
   "source": [
    "<img src=\"animations_notebook_phydnet/movie_phydnet_20_epochs_shuffled.gif\" width=\"650\" align=\"left\">\n",
    "<img src=\"animations_notebook_phydnet/phydnet_mae_phydnet_20_epochs_shuffled.png\" width=\"350\" align=\"right\">"
   ]
  },
  {
   "cell_type": "markdown",
   "id": "84fe8c13-57ba-491b-b3de-8c36c44dade7",
   "metadata": {
    "tags": []
   },
   "source": [
    "## PhyDNet: 50 epochs training - unshuffled"
   ]
  },
  {
   "cell_type": "markdown",
   "id": "672ab77f-033c-4234-bafd-a3bf3a9f3bd1",
   "metadata": {
    "tags": []
   },
   "source": [
    "<img src=\"animations_notebook_phydnet/movie_phydnet_50_epochs_orig.gif\" width=\"650\" align=\"left\">\n",
    "<img src=\"animations_notebook_phydnet/phydnet_mae_phydnet_50_epochs_orig.png\" width=\"350\" align=\"right\">"
   ]
  },
  {
   "cell_type": "markdown",
   "id": "c2e3ae02-fa2a-4f96-a723-a0932c5eb608",
   "metadata": {
    "tags": []
   },
   "source": [
    "## PhyDNet: 50 epochs training - shuffled"
   ]
  },
  {
   "cell_type": "markdown",
   "id": "a7eaa5b2-e702-4954-9f36-12214b7c9598",
   "metadata": {
    "tags": []
   },
   "source": [
    "<img src=\"animations_notebook_phydnet/movie_phydnet_50_epochs_shuffled.gif\" width=\"650\" align=\"left\">\n",
    "<img src=\"animations_notebook_phydnet/phydnet_mae_phydnet_50_epochs_shuffled.png\" width=\"350\" align=\"right\">"
   ]
  },
  {
   "cell_type": "code",
   "execution_count": null,
   "id": "9b2ee192-8a74-41f5-8c77-2969ceb8b33d",
   "metadata": {},
   "outputs": [],
   "source": []
  },
  {
   "cell_type": "code",
   "execution_count": null,
   "id": "9a074255-b814-41bb-a329-49fd9e79d321",
   "metadata": {},
   "outputs": [],
   "source": []
  }
 ],
 "metadata": {
  "kernelspec": {
   "display_name": "Python 3 (ipykernel)",
   "language": "python",
   "name": "python3"
  },
  "language_info": {
   "codemirror_mode": {
    "name": "ipython",
    "version": 3
   },
   "file_extension": ".py",
   "mimetype": "text/x-python",
   "name": "python",
   "nbconvert_exporter": "python",
   "pygments_lexer": "ipython3",
   "version": "3.11.1"
  }
 },
 "nbformat": 4,
 "nbformat_minor": 5
}

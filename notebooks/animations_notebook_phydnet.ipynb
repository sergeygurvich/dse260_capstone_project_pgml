{
 "cells": [
  {
   "cell_type": "markdown",
   "id": "1739e6ad-d0fc-4a56-896d-35d04fff2247",
   "metadata": {},
   "source": [
    "## PhyDNet: 7 epochs training - unshuffled"
   ]
  },
  {
   "cell_type": "markdown",
   "id": "d1a3bbe7-eb00-45e0-ae2c-daf3d2549a7e",
   "metadata": {
    "tags": []
   },
   "source": [
    "<img src=\"animations_notebook_phydnet/movie_phydnet_3.gif\" width=\"750\" align=\"center\">"
   ]
  },
  {
   "cell_type": "markdown",
   "id": "48b03e4b-67a7-4cbe-9df9-dcb47602a0f0",
   "metadata": {},
   "source": [
    "## PhyDNet: 20 epochs training - unshuffled"
   ]
  },
  {
   "cell_type": "markdown",
   "id": "565d3835-0f71-4074-93b3-06b62486fe01",
   "metadata": {
    "tags": []
   },
   "source": [
    "<img src=\"animations_notebook_phydnet/movie_phydnet_20_epochs.gif\" width=\"750\" align=\"center\">"
   ]
  },
  {
   "cell_type": "code",
   "execution_count": null,
   "id": "5ae4d4e8-aa54-459e-a0f2-c04dc806bd66",
   "metadata": {},
   "outputs": [],
   "source": []
  }
 ],
 "metadata": {
  "kernelspec": {
   "display_name": "Python 3 (ipykernel)",
   "language": "python",
   "name": "python3"
  },
  "language_info": {
   "codemirror_mode": {
    "name": "ipython",
    "version": 3
   },
   "file_extension": ".py",
   "mimetype": "text/x-python",
   "name": "python",
   "nbconvert_exporter": "python",
   "pygments_lexer": "ipython3",
   "version": "3.11.1"
  }
 },
 "nbformat": 4,
 "nbformat_minor": 5
}

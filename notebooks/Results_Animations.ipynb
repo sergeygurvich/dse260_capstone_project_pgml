{
 "cells": [
  {
   "cell_type": "markdown",
   "id": "77bdfe38-dc55-4516-9acc-3aa58e7c689d",
   "metadata": {
    "tags": []
   },
   "source": [
    "# UNet"
   ]
  },
  {
   "cell_type": "markdown",
   "id": "0acd4776-6688-4dce-9e78-2efef806c808",
   "metadata": {},
   "source": [
    "## UNet: 50 epochs training - shuffled"
   ]
  },
  {
   "cell_type": "markdown",
   "id": "62c8879d-6cb7-4c70-b65b-33a32d982077",
   "metadata": {
    "tags": []
   },
   "source": [
    "Take last 200 runs for testing\n",
    "<img src=\"animations_notebook_unet/movie_unet_50e_shuffled_950.gif\" width=\"650\" align=\"left\">\n",
    "<img src=\"animations_notebook_unet/unet_mae_unet_50e_shuffled_lst_runs.png\" width=\"350\" align=\"right\">"
   ]
  },
  {
   "cell_type": "markdown",
   "id": "6f50aa06-35fa-4ba4-abff-3e4c512573ca",
   "metadata": {
    "tags": []
   },
   "source": [
    "Take random 200 runs for testing\n",
    "<img src=\"animations_notebook_unet/movie_unet_50e_shuffled_first.gif\" width=\"650\" align=\"left\">\n",
    "<img src=\"animations_notebook_unet/unet_mae_unet_50e_shuffled_first.png\" width=\"350\" align=\"right\">"
   ]
  },
  {
   "cell_type": "markdown",
   "id": "e2007069-d761-4686-9b2b-ae63aac8cccc",
   "metadata": {},
   "source": [
    "### Analysis\n",
    "- Shuffling the datasets contributed to:\n",
    "Better accuracy from training on more diverse data\n",
    "More ‘diverse’ ’data for testing, which caused better testing results\n"
   ]
  },
  {
   "cell_type": "markdown",
   "id": "4da634e0-910a-43c9-a682-2c91f0aa8d4a",
   "metadata": {
    "tags": []
   },
   "source": [
    "## PhyDNet: 5 epochs training - New Dataset - 7 timesteps"
   ]
  },
  {
   "cell_type": "markdown",
   "id": "2dc79474-f6ac-4d2f-b5eb-fdeb5291bc4c",
   "metadata": {
    "tags": []
   },
   "source": [
    "<img src=\"animations_notebook_phydnet_7_timesteps/movie_phydnet_new_data_5_epochs.gif\" width=\"650\" align=\"left\">\n",
    "<img src=\"animations_notebook_phydnet_7_timesteps/phydnet_mae_phydnet_new_data_5_epochs.png\" width=\"350\" align=\"right\">"
   ]
  },
  {
   "cell_type": "markdown",
   "id": "1f9f832b-5324-44dc-9ee2-d6f21f69c63f",
   "metadata": {
    "tags": []
   },
   "source": [
    "## PhyDNet: 20 epochs training - New Dataset - 7 timesteps"
   ]
  },
  {
   "cell_type": "markdown",
   "id": "dad8dd2a-91a3-4ebe-8a39-71b5ea29f4fb",
   "metadata": {},
   "source": [
    "<img src=\"animations_notebook_phydnet_7_timesteps/movie_phydnet_new_data_20_epochs.gif\" width=\"650\" align=\"left\">\n",
    "<img src=\"animations_notebook_phydnet_7_timesteps/phydnet_mae_phydnet_new_data_20_epochs.png\" width=\"350\" align=\"right\">"
   ]
  },
  {
   "cell_type": "markdown",
   "id": "5ae03785-e296-43d0-b1d3-a81d803136ff",
   "metadata": {},
   "source": [
    "### Analysis\n",
    "- Not enough input data, only 7 timestep."
   ]
  },
  {
   "cell_type": "markdown",
   "id": "8756fa89-b2ce-497a-acdf-fd0eba39bd07",
   "metadata": {},
   "source": [
    "# PhyDNet"
   ]
  },
  {
   "cell_type": "markdown",
   "id": "1739e6ad-d0fc-4a56-896d-35d04fff2247",
   "metadata": {},
   "source": [
    "## PhyDNet: 7 epochs training - unshuffled"
   ]
  },
  {
   "cell_type": "markdown",
   "id": "d1a3bbe7-eb00-45e0-ae2c-daf3d2549a7e",
   "metadata": {
    "tags": []
   },
   "source": [
    "<img src=\"animations_notebook_phydnet/movie_phydnet_3.gif\" width=\"650\" align=\"left\">\n",
    "<img src=\"animations_notebook_phydnet/phydnet_mae_phydnet_7_epochs.png\" width=\"350\" align=\"right\">"
   ]
  },
  {
   "cell_type": "markdown",
   "id": "9148522d-2d65-4649-8681-9bc40e2e103d",
   "metadata": {},
   "source": [
    "### Analysis\n",
    "- MAE: 0.006 - 0.076  \n",
    "- Not enough training epochs  \n",
    "- Datasets are ‘structured’ and only certain types of simulation runs are used for training and testing"
   ]
  },
  {
   "cell_type": "markdown",
   "id": "48b03e4b-67a7-4cbe-9df9-dcb47602a0f0",
   "metadata": {
    "tags": []
   },
   "source": [
    "## PhyDNet: 20 epochs training - unshuffled"
   ]
  },
  {
   "cell_type": "markdown",
   "id": "565d3835-0f71-4074-93b3-06b62486fe01",
   "metadata": {
    "tags": []
   },
   "source": [
    "<img src=\"animations_notebook_phydnet/movie_phydnet_20_epochs.gif\" width=\"650\" align=\"left\">\n",
    "<img src=\"animations_notebook_phydnet/phydnet_mae_phydnet_20_epochs.png\" width=\"350\" align=\"right\">"
   ]
  },
  {
   "cell_type": "markdown",
   "id": "c296c72a-aad2-4271-82c3-7c906e93a08a",
   "metadata": {},
   "source": [
    "### Analysis\n",
    "- MAE: 0.008 - 0.044  \n",
    "- The model learned better than with 7 epochs  \n",
    "- Datasets are ‘structured’ and only certain types of simulation runs are used for training and testing"
   ]
  },
  {
   "cell_type": "markdown",
   "id": "230c2040-596f-4e1d-b506-1bb457b8d4a8",
   "metadata": {
    "tags": []
   },
   "source": [
    "## PhyDNet: 20 epochs training - shuffled"
   ]
  },
  {
   "cell_type": "markdown",
   "id": "a638feb2-c9e7-491d-a088-8be58a28a00d",
   "metadata": {
    "tags": []
   },
   "source": [
    "<img src=\"animations_notebook_phydnet/movie_phydnet_20_epochs_shuffled.gif\" width=\"650\" align=\"left\">\n",
    "<img src=\"animations_notebook_phydnet/phydnet_mae_phydnet_20_epochs_shuffled.png\" width=\"350\" align=\"right\">"
   ]
  },
  {
   "cell_type": "markdown",
   "id": "0e53c5b9-ee3e-4f11-981b-5e3a78099f3b",
   "metadata": {},
   "source": [
    "- MAE: 0.004 - 0.018  \n",
    "- Shuffling the datasets contributed to:\n",
    "    - Better accuracy from training on more diverse data\n",
    "    - More ‘diverse’ ’data for testing, which caused better testing results"
   ]
  },
  {
   "cell_type": "markdown",
   "id": "84fe8c13-57ba-491b-b3de-8c36c44dade7",
   "metadata": {
    "tags": []
   },
   "source": [
    "## PhyDNet: 50 epochs training - unshuffled"
   ]
  },
  {
   "cell_type": "markdown",
   "id": "672ab77f-033c-4234-bafd-a3bf3a9f3bd1",
   "metadata": {
    "tags": []
   },
   "source": [
    "<img src=\"animations_notebook_phydnet/movie_phydnet_50_epochs_orig.gif\" width=\"650\" align=\"left\">\n",
    "<img src=\"animations_notebook_phydnet/phydnet_mae_phydnet_50_epochs_orig.png\" width=\"350\" align=\"right\">"
   ]
  },
  {
   "cell_type": "markdown",
   "id": "57399d9d-8b3f-4582-8b45-7748e1b61279",
   "metadata": {},
   "source": [
    "### Analysis\n",
    "- MAE: 0.005 - 0.038  \n",
    "- Datasets are ‘structured’ and only certain types of simulation runs are used for training and testing. Increased number of epochs helped to reduce the error"
   ]
  },
  {
   "cell_type": "markdown",
   "id": "c2e3ae02-fa2a-4f96-a723-a0932c5eb608",
   "metadata": {
    "tags": []
   },
   "source": [
    "## PhyDNet: 50 epochs training - shuffled"
   ]
  },
  {
   "cell_type": "markdown",
   "id": "bb50d316-3da1-480a-8e6c-86843927d93e",
   "metadata": {
    "tags": []
   },
   "source": [
    "<img src=\"animations_notebook_phydnet/movie_phydnet_50_epochs_shuffled_hw.gif\" width=\"650\" align=\"left\">\n",
    "<img src=\"animations_notebook_phydnet/phydnet_mae_phydnet_50_epochs_shuffled_hw.png\" width=\"350\" align=\"right\">"
   ]
  },
  {
   "cell_type": "markdown",
   "id": "564d4664-e805-443b-9c4b-47b6254a3922",
   "metadata": {},
   "source": [
    "### Analysis\n",
    "- MAE: 0.004 - 0.011  \n",
    "- The model learned better than with 20 epochs.\n",
    "- Shuffling the datasets contributed to:\n",
    "    - Better accuracy from training on more diverse data\n",
    "    - More ‘diverse’ ’data for testing, which caused better testing results"
   ]
  },
  {
   "cell_type": "markdown",
   "id": "a7eaa5b2-e702-4954-9f36-12214b7c9598",
   "metadata": {
    "tags": []
   },
   "source": [
    "<!-- <img src=\"animations_notebook_phydnet/movie_phydnet_50_epochs_shuffled.gif\" width=\"650\" align=\"left\">\n",
    "<img src=\"animations_notebook_phydnet/phydnet_mae_phydnet_50_epochs_shuffled.png\" width=\"350\" align=\"right\"> -->"
   ]
  },
  {
   "cell_type": "markdown",
   "id": "387e9627-c5f6-485c-b380-04d702259e50",
   "metadata": {},
   "source": [
    "## PhyDNet: 64 out of 100 epochs training - shuffled"
   ]
  },
  {
   "cell_type": "markdown",
   "id": "aaa45cbe-1de8-40e6-8fcd-073b12870573",
   "metadata": {},
   "source": [
    "<img src=\"animations_notebook_phydnet/movie_phydnet_64_of_100e.gif\" width=\"650\" align=\"left\">\n",
    "<img src=\"animations_notebook_phydnet/phydnet_mae_phydnet_64_of_100e.png\" width=\"350\" align=\"right\">"
   ]
  },
  {
   "cell_type": "markdown",
   "id": "b6b75626-e7a6-4908-aa0c-6e6f42c54c64",
   "metadata": {},
   "source": [
    "<img src=\"animations_notebook_phydnet/phydnet_mae_epochs_phydnet_64_of_100e.png\" width=\"350\" align=\"left\">\n",
    "<img src=\"animations_notebook_phydnet/phydnet_loss_epochs_phydnet_64_of_100e.png\" width=\"350\" align=\"left\">"
   ]
  },
  {
   "cell_type": "markdown",
   "id": "12d1b878-185b-4788-adc7-b03ca73e0288",
   "metadata": {},
   "source": [
    "### Analysis\n",
    "- Best model so far.  \n",
    "- MAE: 0.0038 - 0.010  \n",
    "- The model learned better than with 50 epochs."
   ]
  },
  {
   "cell_type": "code",
   "execution_count": null,
   "id": "928de31c-7931-4023-bb27-7149a951a9df",
   "metadata": {},
   "outputs": [],
   "source": []
  }
 ],
 "metadata": {
  "kernelspec": {
   "display_name": "Python 3 (ipykernel)",
   "language": "python",
   "name": "python3"
  },
  "language_info": {
   "codemirror_mode": {
    "name": "ipython",
    "version": 3
   },
   "file_extension": ".py",
   "mimetype": "text/x-python",
   "name": "python",
   "nbconvert_exporter": "python",
   "pygments_lexer": "ipython3",
   "version": "3.11.1"
  }
 },
 "nbformat": 4,
 "nbformat_minor": 5
}

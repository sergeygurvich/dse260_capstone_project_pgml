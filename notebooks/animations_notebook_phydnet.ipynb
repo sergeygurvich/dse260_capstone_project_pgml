{
 "cells": [
  {
   "cell_type": "markdown",
   "id": "1739e6ad-d0fc-4a56-896d-35d04fff2247",
   "metadata": {},
   "source": [
    "## PhyDNet: 7 epochs training - unshuffled"
   ]
  },
  {
   "cell_type": "markdown",
   "id": "d1a3bbe7-eb00-45e0-ae2c-daf3d2549a7e",
   "metadata": {
    "tags": []
   },
   "source": [
    "<img src=\"animations_notebook_phydnet/movie_phydnet_3.gif\" width=\"650\" align=\"left\">\n",
    "<img src=\"animations_notebook_phydnet/phydnet_mae_phydnet_7_epochs.png\" width=\"350\" align=\"right\">\n"
   ]
  },
  {
   "cell_type": "markdown",
   "id": "48b03e4b-67a7-4cbe-9df9-dcb47602a0f0",
   "metadata": {},
   "source": [
    "## PhyDNet: 20 epochs training - unshuffled"
   ]
  },
  {
   "cell_type": "markdown",
   "id": "565d3835-0f71-4074-93b3-06b62486fe01",
   "metadata": {
    "tags": []
   },
   "source": [
    "<img src=\"animations_notebook_phydnet/movie_phydnet_20_epochs.gif\" width=\"650\" align=\"left\">\n",
    "<img src=\"animations_notebook_phydnet/phydnet_mae_phydnet_20_epochs.png\" width=\"350\" align=\"right\">"
   ]
  },
  {
   "cell_type": "code",
   "execution_count": null,
   "id": "5ae4d4e8-aa54-459e-a0f2-c04dc806bd66",
   "metadata": {},
   "outputs": [],
   "source": []
  },
  {
   "cell_type": "code",
   "execution_count": null,
   "id": "f0097497-233d-4e02-94b9-fb169942c3dd",
   "metadata": {},
   "outputs": [],
   "source": []
  },
  {
   "cell_type": "code",
   "execution_count": null,
   "id": "ab8e1a14-12b6-40be-af4f-2cb064918f9a",
   "metadata": {},
   "outputs": [],
   "source": []
  },
  {
   "cell_type": "code",
   "execution_count": null,
   "id": "ece65afc-956f-412b-98a4-4532a252ebb8",
   "metadata": {},
   "outputs": [],
   "source": []
  },
  {
   "cell_type": "code",
   "execution_count": null,
   "id": "5b3899f1-189f-430b-9d5f-9ab99be97e86",
   "metadata": {},
   "outputs": [],
   "source": []
  },
  {
   "cell_type": "code",
   "execution_count": null,
   "id": "8345dcf2-3ab6-40f5-8857-e69cbc3c6dba",
   "metadata": {},
   "outputs": [],
   "source": []
  },
  {
   "cell_type": "code",
   "execution_count": null,
   "id": "7cd52cce-1a61-4ac0-8a24-0131017ffea3",
   "metadata": {},
   "outputs": [],
   "source": []
  },
  {
   "cell_type": "code",
   "execution_count": null,
   "id": "623f6937-d110-4a1a-bc41-a5ba78601a96",
   "metadata": {},
   "outputs": [],
   "source": []
  },
  {
   "cell_type": "code",
   "execution_count": null,
   "id": "3d4f76f2-6ae2-43fb-abf8-0214aba436a7",
   "metadata": {},
   "outputs": [],
   "source": []
  },
  {
   "cell_type": "code",
   "execution_count": null,
   "id": "eeffb1ea-c732-468a-a977-c25340f2416c",
   "metadata": {},
   "outputs": [],
   "source": []
  },
  {
   "cell_type": "code",
   "execution_count": null,
   "id": "9b2ee192-8a74-41f5-8c77-2969ceb8b33d",
   "metadata": {},
   "outputs": [],
   "source": []
  },
  {
   "cell_type": "code",
   "execution_count": null,
   "id": "9a074255-b814-41bb-a329-49fd9e79d321",
   "metadata": {},
   "outputs": [],
   "source": []
  }
 ],
 "metadata": {
  "kernelspec": {
   "display_name": "Python 3 (ipykernel)",
   "language": "python",
   "name": "python3"
  },
  "language_info": {
   "codemirror_mode": {
    "name": "ipython",
    "version": 3
   },
   "file_extension": ".py",
   "mimetype": "text/x-python",
   "name": "python",
   "nbconvert_exporter": "python",
   "pygments_lexer": "ipython3",
   "version": "3.11.1"
  }
 },
 "nbformat": 4,
 "nbformat_minor": 5
}

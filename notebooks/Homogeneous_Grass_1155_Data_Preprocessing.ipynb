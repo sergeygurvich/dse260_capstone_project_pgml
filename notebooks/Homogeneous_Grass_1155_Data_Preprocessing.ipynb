{
 "cells": [
  {
   "cell_type": "markdown",
   "id": "e7739ee6-05a5-4e41-acc6-9495e1ea4f19",
   "metadata": {},
   "source": [
    "# Data Preprocessing\n",
    "## DSE-260 Group2\n",
    "Reference: https://github.com/OAAS-BEAR/WildFire-Project\n",
    "### Imports"
   ]
  },
  {
   "cell_type": "code",
   "execution_count": 11,
   "id": "2e05c42b-c3fd-46a0-b497-0f21d6c82617",
   "metadata": {},
   "outputs": [],
   "source": [
    "import bp3d\n",
    "import numpy as np\n",
    "import matplotlib.pyplot as plt\n",
    "import torch"
   ]
  },
  {
   "cell_type": "markdown",
   "id": "3329c74b-02eb-4ea8-ab64-4e20b79adfae",
   "metadata": {},
   "source": [
    "### Load Data"
   ]
  },
  {
   "cell_type": "code",
   "execution_count": 2,
   "id": "9c2c9776-90db-48f8-8cec-f6fe7dc8aa5d",
   "metadata": {},
   "outputs": [
    {
     "name": "stdout",
     "output_type": "stream",
     "text": [
      "replacing ignite.dat with 7fa7a483-c2b9-4b1c-ba67-64871524a194\n",
      "replacing ignite.dat with 983e5725-563d-4b02-8529-dec6f591d0f7\n",
      "replacing ignite.dat with 0a8dcce4-c81e-47f9-a26d-6cbc385c9e29\n",
      "replacing ignite.dat with 28e5b7c7-cc52-4869-ae44-002e420b4f07\n",
      "replacing ignite.dat with 0c3b595f-793a-4dd7-98ad-790af5dfa9aa\n",
      "Save ensemble to replace ignition file contents with new ids.\n"
     ]
    }
   ],
   "source": [
    "c = bp3d.Client(url='https://burnpro3d.sdsc.edu/api')\n",
    "ens = c.load_ensemble('uniform-pgml-success.bp3d.json')\n",
    "out = ens.output()"
   ]
  },
  {
   "cell_type": "markdown",
   "id": "0613df6f-51b3-4639-9a9c-78e1fea5955f",
   "metadata": {},
   "source": [
    "### Extract Data from Zarr to Numpy Arrays and Save Locally using Torch"
   ]
  },
  {
   "cell_type": "markdown",
   "id": "30365e2b",
   "metadata": {},
   "source": [
    "#### Create arrays for each feature:\n",
    "- Fire Energy to Atmosphere\n",
    "- Fuel Density\n",
    "- Fuel Moisture\n",
    "- Surf Energy\n",
    "- Topography\n",
    "- Wind Speed X,Y,Z"
   ]
  },
  {
   "cell_type": "code",
   "execution_count": 4,
   "id": "1704c1a5",
   "metadata": {},
   "outputs": [],
   "source": [
    "# windu_array=[]\n",
    "# windv_array=[]\n",
    "# windw_array=[]\n",
    "# fuel_dens_array=[]\n",
    "# fuel_moist_array=[]\n",
    "# surf_energy_array=[]\n",
    "# fire_energy_array=[]\n",
    "# topography_array=[] "
   ]
  },
  {
   "cell_type": "code",
   "execution_count": 14,
   "id": "3aa873e4",
   "metadata": {},
   "outputs": [],
   "source": [
    "# For now, we'll do onle one run\n",
    "for run_id in range(1):\n",
    "    run = out[run_id].zarr\n",
    "    windu=np.array(run['windu'])\n",
    "    windv=np.array(run['windv'])\n",
    "    windw=np.array(run['windw'])\n",
    "    fuel_dens=np.array(run['fuels-dens'])\n",
    "    fuel_moist=np.array(run['fuels-moist'])\n",
    "    surf_energy=np.array(run['surfEnergy'])\n",
    "    fire_energy=np.array(run['fire-energy_to_atmos'])\n",
    "    \n",
    "    torch.save(torch.FloatTensor(windu).clone(),f\"windu_sample\" + str(run_id) + \".pt\")\n",
    "    torch.save(torch.FloatTensor(windv).clone(),f\"windv_sample\" + str(run_id) + \".pt\")\n",
    "    torch.save(torch.FloatTensor(windw).clone(),f\"windw_sample\" + str(run_id) + \".pt\")\n",
    "    torch.save(torch.FloatTensor(fuel_dens).clone(),f\"fuel_dens_sample\" + str(run_id) + \".pt\")\n",
    "    torch.save(torch.FloatTensor(fuel_moist).clone(),f\"fuel_moist_sample\" + str(run_id) + \".pt\")\n",
    "    torch.save(torch.FloatTensor(surf_energy).clone(),f\"surf_energy_sample\" + str(run_id) + \".pt\")\n",
    "    torch.save(torch.FloatTensor(fire_energy).clone(),f\"fire_energy_sample\" + str(run_id) + \".pt\")\n",
    "\n",
    "topography=np.array(run['topography'])\n",
    "torch.save(torch.FloatTensor(windv).clone(),f\"topography\" + str(run_id) + \".pt\")"
   ]
  },
  {
   "cell_type": "code",
   "execution_count": null,
   "id": "01cae801",
   "metadata": {},
   "outputs": [],
   "source": []
  }
 ],
 "metadata": {
  "kernelspec": {
   "display_name": "Python 3 (ipykernel)",
   "language": "python",
   "name": "python3"
  },
  "language_info": {
   "codemirror_mode": {
    "name": "ipython",
    "version": 3
   },
   "file_extension": ".py",
   "mimetype": "text/x-python",
   "name": "python",
   "nbconvert_exporter": "python",
   "pygments_lexer": "ipython3",
   "version": "3.9.13"
  }
 },
 "nbformat": 4,
 "nbformat_minor": 5
}
